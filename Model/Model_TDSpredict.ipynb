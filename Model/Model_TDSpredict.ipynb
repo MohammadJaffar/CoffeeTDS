{
 "cells": [
  {
   "cell_type": "code",
   "execution_count": 1,
   "metadata": {
    "id": "8y_2DBHCw1_J"
   },
   "outputs": [],
   "source": [
    "from sklearn.model_selection import train_test_split\n",
    "from sklearn.linear_model import LinearRegression\n",
    "import pandas as pd"
   ]
  },
  {
   "cell_type": "code",
   "execution_count": 2,
   "metadata": {
    "id": "ndtNogqVy5l4"
   },
   "outputs": [],
   "source": [
    "df = pd.read_csv(r'C:\\Users\\80104061\\Documents\\GitHub\\machine-learning-project-team-4\\CoffeeDataSecUpdate.csv')"
   ]
  },
  {
   "cell_type": "code",
   "execution_count": 3,
   "metadata": {
    "colab": {
     "base_uri": "https://localhost:8080/",
     "height": 206
    },
    "id": "CQpPGpMKzMnf",
    "outputId": "53446cc6-1b7a-439a-d2e0-6df536fe1898"
   },
   "outputs": [
    {
     "data": {
      "text/html": [
       "<div>\n",
       "<style scoped>\n",
       "    .dataframe tbody tr th:only-of-type {\n",
       "        vertical-align: middle;\n",
       "    }\n",
       "\n",
       "    .dataframe tbody tr th {\n",
       "        vertical-align: top;\n",
       "    }\n",
       "\n",
       "    .dataframe thead th {\n",
       "        text-align: right;\n",
       "    }\n",
       "</style>\n",
       "<table border=\"1\" class=\"dataframe\">\n",
       "  <thead>\n",
       "    <tr style=\"text-align: right;\">\n",
       "      <th></th>\n",
       "      <th>Unnamed: 0</th>\n",
       "      <th>dose (g)</th>\n",
       "      <th>water temp ( C )</th>\n",
       "      <th>water vol (ml)</th>\n",
       "      <th>number of pours</th>\n",
       "      <th>TDS %</th>\n",
       "      <th>seconds</th>\n",
       "    </tr>\n",
       "  </thead>\n",
       "  <tbody>\n",
       "    <tr>\n",
       "      <th>0</th>\n",
       "      <td>0</td>\n",
       "      <td>16</td>\n",
       "      <td>93</td>\n",
       "      <td>250</td>\n",
       "      <td>3</td>\n",
       "      <td>1.56</td>\n",
       "      <td>165.0</td>\n",
       "    </tr>\n",
       "    <tr>\n",
       "      <th>1</th>\n",
       "      <td>1</td>\n",
       "      <td>15</td>\n",
       "      <td>93</td>\n",
       "      <td>250</td>\n",
       "      <td>3</td>\n",
       "      <td>1.40</td>\n",
       "      <td>165.0</td>\n",
       "    </tr>\n",
       "    <tr>\n",
       "      <th>2</th>\n",
       "      <td>2</td>\n",
       "      <td>14</td>\n",
       "      <td>92</td>\n",
       "      <td>240</td>\n",
       "      <td>3</td>\n",
       "      <td>1.25</td>\n",
       "      <td>130.0</td>\n",
       "    </tr>\n",
       "    <tr>\n",
       "      <th>3</th>\n",
       "      <td>3</td>\n",
       "      <td>40</td>\n",
       "      <td>92</td>\n",
       "      <td>330</td>\n",
       "      <td>5</td>\n",
       "      <td>1.30</td>\n",
       "      <td>210.0</td>\n",
       "    </tr>\n",
       "    <tr>\n",
       "      <th>4</th>\n",
       "      <td>4</td>\n",
       "      <td>22</td>\n",
       "      <td>100</td>\n",
       "      <td>375</td>\n",
       "      <td>3</td>\n",
       "      <td>1.40</td>\n",
       "      <td>140.0</td>\n",
       "    </tr>\n",
       "  </tbody>\n",
       "</table>\n",
       "</div>"
      ],
      "text/plain": [
       "   Unnamed: 0  dose (g)  water temp ( C )  water vol (ml)  number of pours  \\\n",
       "0           0        16                93             250                3   \n",
       "1           1        15                93             250                3   \n",
       "2           2        14                92             240                3   \n",
       "3           3        40                92             330                5   \n",
       "4           4        22               100             375                3   \n",
       "\n",
       "   TDS %  seconds  \n",
       "0   1.56    165.0  \n",
       "1   1.40    165.0  \n",
       "2   1.25    130.0  \n",
       "3   1.30    210.0  \n",
       "4   1.40    140.0  "
      ]
     },
     "execution_count": 3,
     "metadata": {},
     "output_type": "execute_result"
    }
   ],
   "source": [
    "df.head()"
   ]
  },
  {
   "cell_type": "code",
   "execution_count": 4,
   "metadata": {
    "colab": {
     "base_uri": "https://localhost:8080/"
    },
    "id": "4HUM-gE_zYGa",
    "outputId": "56bd7c1c-0511-4636-cec5-8491925b5e61"
   },
   "outputs": [
    {
     "name": "stdout",
     "output_type": "stream",
     "text": [
      "<class 'pandas.core.frame.DataFrame'>\n",
      "RangeIndex: 133 entries, 0 to 132\n",
      "Data columns (total 7 columns):\n",
      " #   Column            Non-Null Count  Dtype  \n",
      "---  ------            --------------  -----  \n",
      " 0   Unnamed: 0        133 non-null    int64  \n",
      " 1   dose (g)          133 non-null    int64  \n",
      " 2   water temp ( C )  133 non-null    int64  \n",
      " 3   water vol (ml)    133 non-null    int64  \n",
      " 4   number of pours   133 non-null    int64  \n",
      " 5   TDS %             133 non-null    float64\n",
      " 6   seconds           133 non-null    float64\n",
      "dtypes: float64(2), int64(5)\n",
      "memory usage: 7.4 KB\n"
     ]
    }
   ],
   "source": [
    "df.info()"
   ]
  },
  {
   "cell_type": "markdown",
   "metadata": {
    "id": "j5jSzMJbAu6L"
   },
   "source": [
    "#Build & Train Model¶"
   ]
  },
  {
   "cell_type": "code",
   "execution_count": 5,
   "metadata": {
    "id": "Q5GcbbYlAeTY"
   },
   "outputs": [],
   "source": [
    "X = df[['dose (g)', 'water temp ( C )', 'water vol (ml)', 'number of pours', 'seconds']]\n",
    "y = df['TDS %']"
   ]
  },
  {
   "cell_type": "code",
   "execution_count": 6,
   "metadata": {
    "id": "MRPyDup1AjZr"
   },
   "outputs": [],
   "source": [
    "# Split Train and Test sets\n",
    "X_train, X_test, y_train, y_test = train_test_split(X, y, test_size=0.17, random_state=42)"
   ]
  },
  {
   "cell_type": "code",
   "execution_count": 7,
   "metadata": {
    "colab": {
     "base_uri": "https://localhost:8080/",
     "height": 80
    },
    "id": "hD7gIV7oA44p",
    "outputId": "8930a655-f694-48fe-ec9a-15cf49fc3df7"
   },
   "outputs": [],
   "source": [
    "regr = LinearRegression(fit_intercept=True)\n",
    "lineareg_model = regr.fit(X_train, y_train)"
   ]
  },
  {
   "cell_type": "code",
   "execution_count": 8,
   "metadata": {},
   "outputs": [],
   "source": [
    "import pickle\n",
    "\n",
    "# Save the model using the correct variable name\n",
    "with open('lineareg_model.pkl', 'wb') as file:\n",
    "    pickle.dump(lineareg_model, file)"
   ]
  },
  {
   "cell_type": "code",
   "execution_count": 9,
   "metadata": {
    "id": "izmFBAM4A7LD"
   },
   "outputs": [],
   "source": [
    "# Predict on test set\n",
    "y_predict = regr.predict(X_test)"
   ]
  },
  {
   "cell_type": "code",
   "execution_count": 10,
   "metadata": {
    "colab": {
     "base_uri": "https://localhost:8080/"
    },
    "id": "S-BSfp74BMka",
    "outputId": "ae25cfb6-f0bf-4722-9227-c4e3bc4d51f9"
   },
   "outputs": [
    {
     "data": {
      "text/plain": [
       "array([1.51614093, 1.40026681, 1.49761205, 1.39503571, 1.52805458,\n",
       "       1.41031415, 1.41713918, 1.46598226, 1.44160582, 1.48571187,\n",
       "       1.41802874, 1.14643185, 1.15507722, 1.34548026, 1.46725104,\n",
       "       1.62000451, 1.51015   , 1.43043635, 1.35506686, 1.48980179,\n",
       "       1.43499678, 1.4646589 , 1.10149141])"
      ]
     },
     "execution_count": 10,
     "metadata": {},
     "output_type": "execute_result"
    }
   ],
   "source": [
    "y_predict"
   ]
  },
  {
   "cell_type": "code",
   "execution_count": 11,
   "metadata": {
    "colab": {
     "base_uri": "https://localhost:8080/"
    },
    "id": "P-HTIXFyCW8C",
    "outputId": "8c30d0c2-e391-4dc1-fa23-a2723ba59710"
   },
   "outputs": [
    {
     "name": "stdout",
     "output_type": "stream",
     "text": [
      "MAE: 0.1032693211902021\n",
      "MSE: 0.01687320836960637\n",
      "R²: 0.6111893005391922\n"
     ]
    }
   ],
   "source": [
    "from sklearn.metrics import mean_absolute_error, mean_squared_error, r2_score\n",
    "\n",
    "# Calculate predictions on the test set\n",
    "y_pred_test = regr.predict(X_test)\n",
    "\n",
    "# Calculate metrics using the test set predictions\n",
    "mae = mean_absolute_error(y_test, y_pred_test)\n",
    "mse = mean_squared_error(y_test, y_pred_test)\n",
    "r2 = r2_score(y_test, y_pred_test)\n",
    "\n",
    "print(f\"MAE: {mae}\")\n",
    "print(f\"MSE: {mse}\")\n",
    "print(f\"R²: {r2}\")"
   ]
  },
  {
   "cell_type": "markdown",
   "metadata": {
    "id": "BQyGdyQ0JRo3"
   },
   "source": [
    "#normalizetion MinMax"
   ]
  },
  {
   "cell_type": "code",
   "execution_count": 12,
   "metadata": {
    "id": "4nMmn0AADjtX"
   },
   "outputs": [],
   "source": [
    "import matplotlib.pyplot as plt\n",
    "import numpy as np\n",
    "from sklearn.preprocessing import MinMaxScaler"
   ]
  },
  {
   "cell_type": "code",
   "execution_count": 13,
   "metadata": {
    "colab": {
     "base_uri": "https://localhost:8080/"
    },
    "id": "AEy8emnDEIjB",
    "outputId": "df02dd71-af5a-4d1b-9a0a-312c904d4122"
   },
   "outputs": [
    {
     "data": {
      "text/plain": [
       "array([[0.55789474],\n",
       "       [0.38947368],\n",
       "       [0.23157895],\n",
       "       [0.28421053],\n",
       "       [0.38947368],\n",
       "       [0.17894737],\n",
       "       [0.21052632],\n",
       "       [0.33684211],\n",
       "       [0.37894737],\n",
       "       [0.49473684],\n",
       "       [0.6       ],\n",
       "       [0.65263158],\n",
       "       [0.44210526],\n",
       "       [0.02105263],\n",
       "       [0.37894737],\n",
       "       [0.17894737],\n",
       "       [0.35789474],\n",
       "       [0.28421053],\n",
       "       [0.        ],\n",
       "       [0.22105263],\n",
       "       [0.25263158],\n",
       "       [0.22105263],\n",
       "       [0.46315789],\n",
       "       [0.6       ],\n",
       "       [0.08421053],\n",
       "       [0.68421053],\n",
       "       [0.        ],\n",
       "       [0.17894737],\n",
       "       [0.15789474],\n",
       "       [0.38947368],\n",
       "       [0.36842105],\n",
       "       [0.38947368],\n",
       "       [0.32631579],\n",
       "       [0.26315789],\n",
       "       [0.29473684],\n",
       "       [0.81052632],\n",
       "       [0.49473684],\n",
       "       [0.44210526],\n",
       "       [0.18947368],\n",
       "       [0.37894737],\n",
       "       [0.67368421],\n",
       "       [0.48421053],\n",
       "       [0.36842105],\n",
       "       [0.91578947],\n",
       "       [0.72631579],\n",
       "       [0.70526316],\n",
       "       [0.49473684],\n",
       "       [0.50526316],\n",
       "       [0.42105263],\n",
       "       [0.33684211],\n",
       "       [0.37894737],\n",
       "       [0.83157895],\n",
       "       [0.        ],\n",
       "       [0.50526316],\n",
       "       [0.47368421],\n",
       "       [0.57894737],\n",
       "       [0.33684211],\n",
       "       [0.23157895],\n",
       "       [0.26315789],\n",
       "       [0.35789474],\n",
       "       [0.43157895],\n",
       "       [0.93684211],\n",
       "       [1.        ],\n",
       "       [0.74736842],\n",
       "       [0.49473684],\n",
       "       [0.34736842],\n",
       "       [0.4       ],\n",
       "       [0.27368421],\n",
       "       [0.36842105],\n",
       "       [0.33684211],\n",
       "       [0.26315789],\n",
       "       [0.31578947],\n",
       "       [0.03157895],\n",
       "       [0.2       ],\n",
       "       [0.35789474],\n",
       "       [0.28421053],\n",
       "       [0.31578947],\n",
       "       [0.36842105],\n",
       "       [0.41052632],\n",
       "       [0.43157895],\n",
       "       [0.88421053],\n",
       "       [0.46315789],\n",
       "       [0.38947368],\n",
       "       [0.87368421],\n",
       "       [0.52631579],\n",
       "       [0.24210526],\n",
       "       [0.38947368],\n",
       "       [0.32631579],\n",
       "       [0.46315789],\n",
       "       [0.47368421],\n",
       "       [0.32631579],\n",
       "       [0.91578947],\n",
       "       [0.53684211],\n",
       "       [0.26315789],\n",
       "       [0.37894737],\n",
       "       [0.32631579],\n",
       "       [0.29473684],\n",
       "       [0.44210526],\n",
       "       [0.36842105],\n",
       "       [0.33684211],\n",
       "       [0.26315789],\n",
       "       [0.31578947],\n",
       "       [0.05263158],\n",
       "       [0.26315789],\n",
       "       [0.35789474],\n",
       "       [0.45263158],\n",
       "       [0.52631579],\n",
       "       [0.14736842],\n",
       "       [0.09473684],\n",
       "       [0.24210526],\n",
       "       [0.95789474],\n",
       "       [0.55789474],\n",
       "       [0.43157895],\n",
       "       [0.35789474],\n",
       "       [0.36842105],\n",
       "       [0.29473684],\n",
       "       [0.47368421],\n",
       "       [0.57894737],\n",
       "       [0.77894737],\n",
       "       [0.27368421],\n",
       "       [0.35789474],\n",
       "       [0.33684211],\n",
       "       [0.52631579],\n",
       "       [0.49473684],\n",
       "       [0.42105263],\n",
       "       [0.33684211],\n",
       "       [0.89473684],\n",
       "       [0.6       ],\n",
       "       [0.51578947],\n",
       "       [0.30526316],\n",
       "       [0.4       ],\n",
       "       [0.45263158],\n",
       "       [0.35789474]])"
      ]
     },
     "execution_count": 13,
     "metadata": {},
     "output_type": "execute_result"
    }
   ],
   "source": [
    "scaler = MinMaxScaler()\n",
    "\n",
    "normalized_data = scaler.fit_transform(df[['TDS %']])\n",
    "normalized_data"
   ]
  },
  {
   "cell_type": "code",
   "execution_count": 14,
   "metadata": {
    "id": "ZXKp12X8Kt0V"
   },
   "outputs": [],
   "source": [
    "df['normalized_data'] = normalized_data * 100"
   ]
  },
  {
   "cell_type": "code",
   "execution_count": 15,
   "metadata": {
    "colab": {
     "base_uri": "https://localhost:8080/",
     "height": 206
    },
    "id": "DiW5Em2zMJ4s",
    "outputId": "c98742e9-df0d-4497-cf53-9d8a7e01e045"
   },
   "outputs": [
    {
     "data": {
      "text/html": [
       "<div>\n",
       "<style scoped>\n",
       "    .dataframe tbody tr th:only-of-type {\n",
       "        vertical-align: middle;\n",
       "    }\n",
       "\n",
       "    .dataframe tbody tr th {\n",
       "        vertical-align: top;\n",
       "    }\n",
       "\n",
       "    .dataframe thead th {\n",
       "        text-align: right;\n",
       "    }\n",
       "</style>\n",
       "<table border=\"1\" class=\"dataframe\">\n",
       "  <thead>\n",
       "    <tr style=\"text-align: right;\">\n",
       "      <th></th>\n",
       "      <th>Unnamed: 0</th>\n",
       "      <th>dose (g)</th>\n",
       "      <th>water temp ( C )</th>\n",
       "      <th>water vol (ml)</th>\n",
       "      <th>number of pours</th>\n",
       "      <th>TDS %</th>\n",
       "      <th>seconds</th>\n",
       "      <th>normalized_data</th>\n",
       "    </tr>\n",
       "  </thead>\n",
       "  <tbody>\n",
       "    <tr>\n",
       "      <th>0</th>\n",
       "      <td>0</td>\n",
       "      <td>16</td>\n",
       "      <td>93</td>\n",
       "      <td>250</td>\n",
       "      <td>3</td>\n",
       "      <td>1.56</td>\n",
       "      <td>165.0</td>\n",
       "      <td>55.789474</td>\n",
       "    </tr>\n",
       "    <tr>\n",
       "      <th>1</th>\n",
       "      <td>1</td>\n",
       "      <td>15</td>\n",
       "      <td>93</td>\n",
       "      <td>250</td>\n",
       "      <td>3</td>\n",
       "      <td>1.40</td>\n",
       "      <td>165.0</td>\n",
       "      <td>38.947368</td>\n",
       "    </tr>\n",
       "    <tr>\n",
       "      <th>2</th>\n",
       "      <td>2</td>\n",
       "      <td>14</td>\n",
       "      <td>92</td>\n",
       "      <td>240</td>\n",
       "      <td>3</td>\n",
       "      <td>1.25</td>\n",
       "      <td>130.0</td>\n",
       "      <td>23.157895</td>\n",
       "    </tr>\n",
       "    <tr>\n",
       "      <th>3</th>\n",
       "      <td>3</td>\n",
       "      <td>40</td>\n",
       "      <td>92</td>\n",
       "      <td>330</td>\n",
       "      <td>5</td>\n",
       "      <td>1.30</td>\n",
       "      <td>210.0</td>\n",
       "      <td>28.421053</td>\n",
       "    </tr>\n",
       "    <tr>\n",
       "      <th>4</th>\n",
       "      <td>4</td>\n",
       "      <td>22</td>\n",
       "      <td>100</td>\n",
       "      <td>375</td>\n",
       "      <td>3</td>\n",
       "      <td>1.40</td>\n",
       "      <td>140.0</td>\n",
       "      <td>38.947368</td>\n",
       "    </tr>\n",
       "  </tbody>\n",
       "</table>\n",
       "</div>"
      ],
      "text/plain": [
       "   Unnamed: 0  dose (g)  water temp ( C )  water vol (ml)  number of pours  \\\n",
       "0           0        16                93             250                3   \n",
       "1           1        15                93             250                3   \n",
       "2           2        14                92             240                3   \n",
       "3           3        40                92             330                5   \n",
       "4           4        22               100             375                3   \n",
       "\n",
       "   TDS %  seconds  normalized_data  \n",
       "0   1.56    165.0        55.789474  \n",
       "1   1.40    165.0        38.947368  \n",
       "2   1.25    130.0        23.157895  \n",
       "3   1.30    210.0        28.421053  \n",
       "4   1.40    140.0        38.947368  "
      ]
     },
     "execution_count": 15,
     "metadata": {},
     "output_type": "execute_result"
    }
   ],
   "source": [
    "df.head()"
   ]
  },
  {
   "cell_type": "code",
   "execution_count": 16,
   "metadata": {
    "id": "OQUENzEqQ-eq"
   },
   "outputs": [],
   "source": [
    "X = df[['dose (g)', 'water temp ( C )', 'water vol (ml)', 'number of pours', 'seconds']]\n",
    "y = df['normalized_data']"
   ]
  },
  {
   "cell_type": "code",
   "execution_count": 17,
   "metadata": {
    "id": "VWCfyA6MRUrU"
   },
   "outputs": [],
   "source": [
    "X_train, X_test, y_train, y_test = train_test_split(X, y, test_size=0.17, random_state=42)"
   ]
  },
  {
   "cell_type": "code",
   "execution_count": 18,
   "metadata": {
    "id": "FE4n7BErRXVs"
   },
   "outputs": [],
   "source": [
    "regr = LinearRegression(fit_intercept=True)"
   ]
  },
  {
   "cell_type": "code",
   "execution_count": 19,
   "metadata": {
    "colab": {
     "base_uri": "https://localhost:8080/",
     "height": 80
    },
    "id": "M0QTgE0oRYN5",
    "outputId": "300ac83b-b65a-4beb-b5c4-8946f3b2ba7e"
   },
   "outputs": [
    {
     "data": {
      "text/html": [
       "<style>#sk-container-id-1 {\n",
       "  /* Definition of color scheme common for light and dark mode */\n",
       "  --sklearn-color-text: black;\n",
       "  --sklearn-color-line: gray;\n",
       "  /* Definition of color scheme for unfitted estimators */\n",
       "  --sklearn-color-unfitted-level-0: #fff5e6;\n",
       "  --sklearn-color-unfitted-level-1: #f6e4d2;\n",
       "  --sklearn-color-unfitted-level-2: #ffe0b3;\n",
       "  --sklearn-color-unfitted-level-3: chocolate;\n",
       "  /* Definition of color scheme for fitted estimators */\n",
       "  --sklearn-color-fitted-level-0: #f0f8ff;\n",
       "  --sklearn-color-fitted-level-1: #d4ebff;\n",
       "  --sklearn-color-fitted-level-2: #b3dbfd;\n",
       "  --sklearn-color-fitted-level-3: cornflowerblue;\n",
       "\n",
       "  /* Specific color for light theme */\n",
       "  --sklearn-color-text-on-default-background: var(--sg-text-color, var(--theme-code-foreground, var(--jp-content-font-color1, black)));\n",
       "  --sklearn-color-background: var(--sg-background-color, var(--theme-background, var(--jp-layout-color0, white)));\n",
       "  --sklearn-color-border-box: var(--sg-text-color, var(--theme-code-foreground, var(--jp-content-font-color1, black)));\n",
       "  --sklearn-color-icon: #696969;\n",
       "\n",
       "  @media (prefers-color-scheme: dark) {\n",
       "    /* Redefinition of color scheme for dark theme */\n",
       "    --sklearn-color-text-on-default-background: var(--sg-text-color, var(--theme-code-foreground, var(--jp-content-font-color1, white)));\n",
       "    --sklearn-color-background: var(--sg-background-color, var(--theme-background, var(--jp-layout-color0, #111)));\n",
       "    --sklearn-color-border-box: var(--sg-text-color, var(--theme-code-foreground, var(--jp-content-font-color1, white)));\n",
       "    --sklearn-color-icon: #878787;\n",
       "  }\n",
       "}\n",
       "\n",
       "#sk-container-id-1 {\n",
       "  color: var(--sklearn-color-text);\n",
       "}\n",
       "\n",
       "#sk-container-id-1 pre {\n",
       "  padding: 0;\n",
       "}\n",
       "\n",
       "#sk-container-id-1 input.sk-hidden--visually {\n",
       "  border: 0;\n",
       "  clip: rect(1px 1px 1px 1px);\n",
       "  clip: rect(1px, 1px, 1px, 1px);\n",
       "  height: 1px;\n",
       "  margin: -1px;\n",
       "  overflow: hidden;\n",
       "  padding: 0;\n",
       "  position: absolute;\n",
       "  width: 1px;\n",
       "}\n",
       "\n",
       "#sk-container-id-1 div.sk-dashed-wrapped {\n",
       "  border: 1px dashed var(--sklearn-color-line);\n",
       "  margin: 0 0.4em 0.5em 0.4em;\n",
       "  box-sizing: border-box;\n",
       "  padding-bottom: 0.4em;\n",
       "  background-color: var(--sklearn-color-background);\n",
       "}\n",
       "\n",
       "#sk-container-id-1 div.sk-container {\n",
       "  /* jupyter's `normalize.less` sets `[hidden] { display: none; }`\n",
       "     but bootstrap.min.css set `[hidden] { display: none !important; }`\n",
       "     so we also need the `!important` here to be able to override the\n",
       "     default hidden behavior on the sphinx rendered scikit-learn.org.\n",
       "     See: https://github.com/scikit-learn/scikit-learn/issues/21755 */\n",
       "  display: inline-block !important;\n",
       "  position: relative;\n",
       "}\n",
       "\n",
       "#sk-container-id-1 div.sk-text-repr-fallback {\n",
       "  display: none;\n",
       "}\n",
       "\n",
       "div.sk-parallel-item,\n",
       "div.sk-serial,\n",
       "div.sk-item {\n",
       "  /* draw centered vertical line to link estimators */\n",
       "  background-image: linear-gradient(var(--sklearn-color-text-on-default-background), var(--sklearn-color-text-on-default-background));\n",
       "  background-size: 2px 100%;\n",
       "  background-repeat: no-repeat;\n",
       "  background-position: center center;\n",
       "}\n",
       "\n",
       "/* Parallel-specific style estimator block */\n",
       "\n",
       "#sk-container-id-1 div.sk-parallel-item::after {\n",
       "  content: \"\";\n",
       "  width: 100%;\n",
       "  border-bottom: 2px solid var(--sklearn-color-text-on-default-background);\n",
       "  flex-grow: 1;\n",
       "}\n",
       "\n",
       "#sk-container-id-1 div.sk-parallel {\n",
       "  display: flex;\n",
       "  align-items: stretch;\n",
       "  justify-content: center;\n",
       "  background-color: var(--sklearn-color-background);\n",
       "  position: relative;\n",
       "}\n",
       "\n",
       "#sk-container-id-1 div.sk-parallel-item {\n",
       "  display: flex;\n",
       "  flex-direction: column;\n",
       "}\n",
       "\n",
       "#sk-container-id-1 div.sk-parallel-item:first-child::after {\n",
       "  align-self: flex-end;\n",
       "  width: 50%;\n",
       "}\n",
       "\n",
       "#sk-container-id-1 div.sk-parallel-item:last-child::after {\n",
       "  align-self: flex-start;\n",
       "  width: 50%;\n",
       "}\n",
       "\n",
       "#sk-container-id-1 div.sk-parallel-item:only-child::after {\n",
       "  width: 0;\n",
       "}\n",
       "\n",
       "/* Serial-specific style estimator block */\n",
       "\n",
       "#sk-container-id-1 div.sk-serial {\n",
       "  display: flex;\n",
       "  flex-direction: column;\n",
       "  align-items: center;\n",
       "  background-color: var(--sklearn-color-background);\n",
       "  padding-right: 1em;\n",
       "  padding-left: 1em;\n",
       "}\n",
       "\n",
       "\n",
       "/* Toggleable style: style used for estimator/Pipeline/ColumnTransformer box that is\n",
       "clickable and can be expanded/collapsed.\n",
       "- Pipeline and ColumnTransformer use this feature and define the default style\n",
       "- Estimators will overwrite some part of the style using the `sk-estimator` class\n",
       "*/\n",
       "\n",
       "/* Pipeline and ColumnTransformer style (default) */\n",
       "\n",
       "#sk-container-id-1 div.sk-toggleable {\n",
       "  /* Default theme specific background. It is overwritten whether we have a\n",
       "  specific estimator or a Pipeline/ColumnTransformer */\n",
       "  background-color: var(--sklearn-color-background);\n",
       "}\n",
       "\n",
       "/* Toggleable label */\n",
       "#sk-container-id-1 label.sk-toggleable__label {\n",
       "  cursor: pointer;\n",
       "  display: block;\n",
       "  width: 100%;\n",
       "  margin-bottom: 0;\n",
       "  padding: 0.5em;\n",
       "  box-sizing: border-box;\n",
       "  text-align: center;\n",
       "}\n",
       "\n",
       "#sk-container-id-1 label.sk-toggleable__label-arrow:before {\n",
       "  /* Arrow on the left of the label */\n",
       "  content: \"▸\";\n",
       "  float: left;\n",
       "  margin-right: 0.25em;\n",
       "  color: var(--sklearn-color-icon);\n",
       "}\n",
       "\n",
       "#sk-container-id-1 label.sk-toggleable__label-arrow:hover:before {\n",
       "  color: var(--sklearn-color-text);\n",
       "}\n",
       "\n",
       "/* Toggleable content - dropdown */\n",
       "\n",
       "#sk-container-id-1 div.sk-toggleable__content {\n",
       "  max-height: 0;\n",
       "  max-width: 0;\n",
       "  overflow: hidden;\n",
       "  text-align: left;\n",
       "  /* unfitted */\n",
       "  background-color: var(--sklearn-color-unfitted-level-0);\n",
       "}\n",
       "\n",
       "#sk-container-id-1 div.sk-toggleable__content.fitted {\n",
       "  /* fitted */\n",
       "  background-color: var(--sklearn-color-fitted-level-0);\n",
       "}\n",
       "\n",
       "#sk-container-id-1 div.sk-toggleable__content pre {\n",
       "  margin: 0.2em;\n",
       "  border-radius: 0.25em;\n",
       "  color: var(--sklearn-color-text);\n",
       "  /* unfitted */\n",
       "  background-color: var(--sklearn-color-unfitted-level-0);\n",
       "}\n",
       "\n",
       "#sk-container-id-1 div.sk-toggleable__content.fitted pre {\n",
       "  /* unfitted */\n",
       "  background-color: var(--sklearn-color-fitted-level-0);\n",
       "}\n",
       "\n",
       "#sk-container-id-1 input.sk-toggleable__control:checked~div.sk-toggleable__content {\n",
       "  /* Expand drop-down */\n",
       "  max-height: 200px;\n",
       "  max-width: 100%;\n",
       "  overflow: auto;\n",
       "}\n",
       "\n",
       "#sk-container-id-1 input.sk-toggleable__control:checked~label.sk-toggleable__label-arrow:before {\n",
       "  content: \"▾\";\n",
       "}\n",
       "\n",
       "/* Pipeline/ColumnTransformer-specific style */\n",
       "\n",
       "#sk-container-id-1 div.sk-label input.sk-toggleable__control:checked~label.sk-toggleable__label {\n",
       "  color: var(--sklearn-color-text);\n",
       "  background-color: var(--sklearn-color-unfitted-level-2);\n",
       "}\n",
       "\n",
       "#sk-container-id-1 div.sk-label.fitted input.sk-toggleable__control:checked~label.sk-toggleable__label {\n",
       "  background-color: var(--sklearn-color-fitted-level-2);\n",
       "}\n",
       "\n",
       "/* Estimator-specific style */\n",
       "\n",
       "/* Colorize estimator box */\n",
       "#sk-container-id-1 div.sk-estimator input.sk-toggleable__control:checked~label.sk-toggleable__label {\n",
       "  /* unfitted */\n",
       "  background-color: var(--sklearn-color-unfitted-level-2);\n",
       "}\n",
       "\n",
       "#sk-container-id-1 div.sk-estimator.fitted input.sk-toggleable__control:checked~label.sk-toggleable__label {\n",
       "  /* fitted */\n",
       "  background-color: var(--sklearn-color-fitted-level-2);\n",
       "}\n",
       "\n",
       "#sk-container-id-1 div.sk-label label.sk-toggleable__label,\n",
       "#sk-container-id-1 div.sk-label label {\n",
       "  /* The background is the default theme color */\n",
       "  color: var(--sklearn-color-text-on-default-background);\n",
       "}\n",
       "\n",
       "/* On hover, darken the color of the background */\n",
       "#sk-container-id-1 div.sk-label:hover label.sk-toggleable__label {\n",
       "  color: var(--sklearn-color-text);\n",
       "  background-color: var(--sklearn-color-unfitted-level-2);\n",
       "}\n",
       "\n",
       "/* Label box, darken color on hover, fitted */\n",
       "#sk-container-id-1 div.sk-label.fitted:hover label.sk-toggleable__label.fitted {\n",
       "  color: var(--sklearn-color-text);\n",
       "  background-color: var(--sklearn-color-fitted-level-2);\n",
       "}\n",
       "\n",
       "/* Estimator label */\n",
       "\n",
       "#sk-container-id-1 div.sk-label label {\n",
       "  font-family: monospace;\n",
       "  font-weight: bold;\n",
       "  display: inline-block;\n",
       "  line-height: 1.2em;\n",
       "}\n",
       "\n",
       "#sk-container-id-1 div.sk-label-container {\n",
       "  text-align: center;\n",
       "}\n",
       "\n",
       "/* Estimator-specific */\n",
       "#sk-container-id-1 div.sk-estimator {\n",
       "  font-family: monospace;\n",
       "  border: 1px dotted var(--sklearn-color-border-box);\n",
       "  border-radius: 0.25em;\n",
       "  box-sizing: border-box;\n",
       "  margin-bottom: 0.5em;\n",
       "  /* unfitted */\n",
       "  background-color: var(--sklearn-color-unfitted-level-0);\n",
       "}\n",
       "\n",
       "#sk-container-id-1 div.sk-estimator.fitted {\n",
       "  /* fitted */\n",
       "  background-color: var(--sklearn-color-fitted-level-0);\n",
       "}\n",
       "\n",
       "/* on hover */\n",
       "#sk-container-id-1 div.sk-estimator:hover {\n",
       "  /* unfitted */\n",
       "  background-color: var(--sklearn-color-unfitted-level-2);\n",
       "}\n",
       "\n",
       "#sk-container-id-1 div.sk-estimator.fitted:hover {\n",
       "  /* fitted */\n",
       "  background-color: var(--sklearn-color-fitted-level-2);\n",
       "}\n",
       "\n",
       "/* Specification for estimator info (e.g. \"i\" and \"?\") */\n",
       "\n",
       "/* Common style for \"i\" and \"?\" */\n",
       "\n",
       ".sk-estimator-doc-link,\n",
       "a:link.sk-estimator-doc-link,\n",
       "a:visited.sk-estimator-doc-link {\n",
       "  float: right;\n",
       "  font-size: smaller;\n",
       "  line-height: 1em;\n",
       "  font-family: monospace;\n",
       "  background-color: var(--sklearn-color-background);\n",
       "  border-radius: 1em;\n",
       "  height: 1em;\n",
       "  width: 1em;\n",
       "  text-decoration: none !important;\n",
       "  margin-left: 1ex;\n",
       "  /* unfitted */\n",
       "  border: var(--sklearn-color-unfitted-level-1) 1pt solid;\n",
       "  color: var(--sklearn-color-unfitted-level-1);\n",
       "}\n",
       "\n",
       ".sk-estimator-doc-link.fitted,\n",
       "a:link.sk-estimator-doc-link.fitted,\n",
       "a:visited.sk-estimator-doc-link.fitted {\n",
       "  /* fitted */\n",
       "  border: var(--sklearn-color-fitted-level-1) 1pt solid;\n",
       "  color: var(--sklearn-color-fitted-level-1);\n",
       "}\n",
       "\n",
       "/* On hover */\n",
       "div.sk-estimator:hover .sk-estimator-doc-link:hover,\n",
       ".sk-estimator-doc-link:hover,\n",
       "div.sk-label-container:hover .sk-estimator-doc-link:hover,\n",
       ".sk-estimator-doc-link:hover {\n",
       "  /* unfitted */\n",
       "  background-color: var(--sklearn-color-unfitted-level-3);\n",
       "  color: var(--sklearn-color-background);\n",
       "  text-decoration: none;\n",
       "}\n",
       "\n",
       "div.sk-estimator.fitted:hover .sk-estimator-doc-link.fitted:hover,\n",
       ".sk-estimator-doc-link.fitted:hover,\n",
       "div.sk-label-container:hover .sk-estimator-doc-link.fitted:hover,\n",
       ".sk-estimator-doc-link.fitted:hover {\n",
       "  /* fitted */\n",
       "  background-color: var(--sklearn-color-fitted-level-3);\n",
       "  color: var(--sklearn-color-background);\n",
       "  text-decoration: none;\n",
       "}\n",
       "\n",
       "/* Span, style for the box shown on hovering the info icon */\n",
       ".sk-estimator-doc-link span {\n",
       "  display: none;\n",
       "  z-index: 9999;\n",
       "  position: relative;\n",
       "  font-weight: normal;\n",
       "  right: .2ex;\n",
       "  padding: .5ex;\n",
       "  margin: .5ex;\n",
       "  width: min-content;\n",
       "  min-width: 20ex;\n",
       "  max-width: 50ex;\n",
       "  color: var(--sklearn-color-text);\n",
       "  box-shadow: 2pt 2pt 4pt #999;\n",
       "  /* unfitted */\n",
       "  background: var(--sklearn-color-unfitted-level-0);\n",
       "  border: .5pt solid var(--sklearn-color-unfitted-level-3);\n",
       "}\n",
       "\n",
       ".sk-estimator-doc-link.fitted span {\n",
       "  /* fitted */\n",
       "  background: var(--sklearn-color-fitted-level-0);\n",
       "  border: var(--sklearn-color-fitted-level-3);\n",
       "}\n",
       "\n",
       ".sk-estimator-doc-link:hover span {\n",
       "  display: block;\n",
       "}\n",
       "\n",
       "/* \"?\"-specific style due to the `<a>` HTML tag */\n",
       "\n",
       "#sk-container-id-1 a.estimator_doc_link {\n",
       "  float: right;\n",
       "  font-size: 1rem;\n",
       "  line-height: 1em;\n",
       "  font-family: monospace;\n",
       "  background-color: var(--sklearn-color-background);\n",
       "  border-radius: 1rem;\n",
       "  height: 1rem;\n",
       "  width: 1rem;\n",
       "  text-decoration: none;\n",
       "  /* unfitted */\n",
       "  color: var(--sklearn-color-unfitted-level-1);\n",
       "  border: var(--sklearn-color-unfitted-level-1) 1pt solid;\n",
       "}\n",
       "\n",
       "#sk-container-id-1 a.estimator_doc_link.fitted {\n",
       "  /* fitted */\n",
       "  border: var(--sklearn-color-fitted-level-1) 1pt solid;\n",
       "  color: var(--sklearn-color-fitted-level-1);\n",
       "}\n",
       "\n",
       "/* On hover */\n",
       "#sk-container-id-1 a.estimator_doc_link:hover {\n",
       "  /* unfitted */\n",
       "  background-color: var(--sklearn-color-unfitted-level-3);\n",
       "  color: var(--sklearn-color-background);\n",
       "  text-decoration: none;\n",
       "}\n",
       "\n",
       "#sk-container-id-1 a.estimator_doc_link.fitted:hover {\n",
       "  /* fitted */\n",
       "  background-color: var(--sklearn-color-fitted-level-3);\n",
       "}\n",
       "</style><div id=\"sk-container-id-1\" class=\"sk-top-container\"><div class=\"sk-text-repr-fallback\"><pre>LinearRegression()</pre><b>In a Jupyter environment, please rerun this cell to show the HTML representation or trust the notebook. <br />On GitHub, the HTML representation is unable to render, please try loading this page with nbviewer.org.</b></div><div class=\"sk-container\" hidden><div class=\"sk-item\"><div class=\"sk-estimator fitted sk-toggleable\"><input class=\"sk-toggleable__control sk-hidden--visually\" id=\"sk-estimator-id-1\" type=\"checkbox\" checked><label for=\"sk-estimator-id-1\" class=\"sk-toggleable__label fitted sk-toggleable__label-arrow fitted\">&nbsp;&nbsp;LinearRegression<a class=\"sk-estimator-doc-link fitted\" rel=\"noreferrer\" target=\"_blank\" href=\"https://scikit-learn.org/1.4/modules/generated/sklearn.linear_model.LinearRegression.html\">?<span>Documentation for LinearRegression</span></a><span class=\"sk-estimator-doc-link fitted\">i<span>Fitted</span></span></label><div class=\"sk-toggleable__content fitted\"><pre>LinearRegression()</pre></div> </div></div></div></div>"
      ],
      "text/plain": [
       "LinearRegression()"
      ]
     },
     "execution_count": 19,
     "metadata": {},
     "output_type": "execute_result"
    }
   ],
   "source": [
    "regr.fit(X_train, y_train)"
   ]
  },
  {
   "cell_type": "code",
   "execution_count": 20,
   "metadata": {
    "id": "-Tt1KicvRazH"
   },
   "outputs": [],
   "source": [
    "y_predict = regr.predict(X_test)"
   ]
  },
  {
   "cell_type": "code",
   "execution_count": 21,
   "metadata": {
    "colab": {
     "base_uri": "https://localhost:8080/"
    },
    "id": "5Su3L96ORdBU",
    "outputId": "bb48c6bd-6c37-49e1-f76b-86391004506a"
   },
   "outputs": [
    {
     "data": {
      "text/plain": [
       "array([51.17272924, 38.97545323, 49.2223208 , 38.42481111, 52.42679765,\n",
       "       40.03306866, 40.75149222, 45.89286914, 43.32692842, 47.96967096,\n",
       "       40.84513084, 12.25598372, 13.16602325, 33.20844798, 46.02642571,\n",
       "       62.10573772, 50.54210496, 42.15119431, 34.21756371, 48.40018796,\n",
       "       42.6312405 , 45.75356796,  7.52541139])"
      ]
     },
     "execution_count": 21,
     "metadata": {},
     "output_type": "execute_result"
    }
   ],
   "source": [
    "y_predict"
   ]
  },
  {
   "cell_type": "code",
   "execution_count": 22,
   "metadata": {
    "colab": {
     "base_uri": "https://localhost:8080/"
    },
    "id": "ewCPX83tRgeX",
    "outputId": "b0e9e543-1cf7-433e-cfcf-867b55ae5269"
   },
   "outputs": [
    {
     "name": "stdout",
     "output_type": "stream",
     "text": [
      "MAE: 10.870454862126527\n",
      "MSE: 186.9607575579651\n",
      "R²: 0.6111893005391924\n"
     ]
    }
   ],
   "source": [
    "from sklearn.metrics import mean_absolute_error, mean_squared_error, r2_score\n",
    "\n",
    "# Calculate predictions on the test set\n",
    "y_pred_test = regr.predict(X_test)\n",
    "\n",
    "# Calculate metrics using the test set predictions\n",
    "mae = mean_absolute_error(y_test, y_pred_test)\n",
    "mse = mean_squared_error(y_test, y_pred_test)\n",
    "r2 = r2_score(y_test, y_pred_test)\n",
    "\n",
    "print(f\"MAE: {mae}\")\n",
    "print(f\"MSE: {mse}\")\n",
    "print(f\"R²: {r2}\")"
   ]
  },
  {
   "cell_type": "markdown",
   "metadata": {
    "id": "XHj3dGvhTvjM"
   },
   "source": [
    "#Add"
   ]
  },
  {
   "cell_type": "code",
   "execution_count": 23,
   "metadata": {
    "id": "Wm9pawZCVPiI"
   },
   "outputs": [],
   "source": [
    "df2 =df\n",
    "conditions = [\n",
    "    df['TDS %'] <= 1.25,\n",
    "    (df['TDS %'] >= 1.26) & (df['TDS %'] <= 1.36),\n",
    "    (df['TDS %'] >= 1.37) & (df['TDS %'] <= 1.45),\n",
    "    (df['TDS %'] >= 1.46) & (df['TDS %'] <= 1.52),\n",
    "    df['TDS %'] > 1.52\n",
    "]\n",
    "\n",
    "choices = [0, 1, 2, 3, 4]\n",
    "# ['weak', 'weak balanced', 'balanced', 'balanced strong', 'strong']\n",
    "\n",
    "#            0        1               2              3                4\n",
    "df2['status'] = np.select(conditions, choices, default='unknown')\n"
   ]
  },
  {
   "cell_type": "code",
   "execution_count": 24,
   "metadata": {
    "colab": {
     "base_uri": "https://localhost:8080/",
     "height": 206
    },
    "id": "JawRwamcVla9",
    "outputId": "eb15a63c-fccd-4e8d-9a64-6e8cea5ce00d"
   },
   "outputs": [
    {
     "data": {
      "text/html": [
       "<div>\n",
       "<style scoped>\n",
       "    .dataframe tbody tr th:only-of-type {\n",
       "        vertical-align: middle;\n",
       "    }\n",
       "\n",
       "    .dataframe tbody tr th {\n",
       "        vertical-align: top;\n",
       "    }\n",
       "\n",
       "    .dataframe thead th {\n",
       "        text-align: right;\n",
       "    }\n",
       "</style>\n",
       "<table border=\"1\" class=\"dataframe\">\n",
       "  <thead>\n",
       "    <tr style=\"text-align: right;\">\n",
       "      <th></th>\n",
       "      <th>Unnamed: 0</th>\n",
       "      <th>dose (g)</th>\n",
       "      <th>water temp ( C )</th>\n",
       "      <th>water vol (ml)</th>\n",
       "      <th>number of pours</th>\n",
       "      <th>TDS %</th>\n",
       "      <th>seconds</th>\n",
       "      <th>normalized_data</th>\n",
       "      <th>status</th>\n",
       "    </tr>\n",
       "  </thead>\n",
       "  <tbody>\n",
       "    <tr>\n",
       "      <th>0</th>\n",
       "      <td>0</td>\n",
       "      <td>16</td>\n",
       "      <td>93</td>\n",
       "      <td>250</td>\n",
       "      <td>3</td>\n",
       "      <td>1.56</td>\n",
       "      <td>165.0</td>\n",
       "      <td>55.789474</td>\n",
       "      <td>4</td>\n",
       "    </tr>\n",
       "    <tr>\n",
       "      <th>1</th>\n",
       "      <td>1</td>\n",
       "      <td>15</td>\n",
       "      <td>93</td>\n",
       "      <td>250</td>\n",
       "      <td>3</td>\n",
       "      <td>1.40</td>\n",
       "      <td>165.0</td>\n",
       "      <td>38.947368</td>\n",
       "      <td>2</td>\n",
       "    </tr>\n",
       "    <tr>\n",
       "      <th>2</th>\n",
       "      <td>2</td>\n",
       "      <td>14</td>\n",
       "      <td>92</td>\n",
       "      <td>240</td>\n",
       "      <td>3</td>\n",
       "      <td>1.25</td>\n",
       "      <td>130.0</td>\n",
       "      <td>23.157895</td>\n",
       "      <td>0</td>\n",
       "    </tr>\n",
       "    <tr>\n",
       "      <th>3</th>\n",
       "      <td>3</td>\n",
       "      <td>40</td>\n",
       "      <td>92</td>\n",
       "      <td>330</td>\n",
       "      <td>5</td>\n",
       "      <td>1.30</td>\n",
       "      <td>210.0</td>\n",
       "      <td>28.421053</td>\n",
       "      <td>1</td>\n",
       "    </tr>\n",
       "    <tr>\n",
       "      <th>4</th>\n",
       "      <td>4</td>\n",
       "      <td>22</td>\n",
       "      <td>100</td>\n",
       "      <td>375</td>\n",
       "      <td>3</td>\n",
       "      <td>1.40</td>\n",
       "      <td>140.0</td>\n",
       "      <td>38.947368</td>\n",
       "      <td>2</td>\n",
       "    </tr>\n",
       "  </tbody>\n",
       "</table>\n",
       "</div>"
      ],
      "text/plain": [
       "   Unnamed: 0  dose (g)  water temp ( C )  water vol (ml)  number of pours  \\\n",
       "0           0        16                93             250                3   \n",
       "1           1        15                93             250                3   \n",
       "2           2        14                92             240                3   \n",
       "3           3        40                92             330                5   \n",
       "4           4        22               100             375                3   \n",
       "\n",
       "   TDS %  seconds  normalized_data status  \n",
       "0   1.56    165.0        55.789474      4  \n",
       "1   1.40    165.0        38.947368      2  \n",
       "2   1.25    130.0        23.157895      0  \n",
       "3   1.30    210.0        28.421053      1  \n",
       "4   1.40    140.0        38.947368      2  "
      ]
     },
     "execution_count": 24,
     "metadata": {},
     "output_type": "execute_result"
    }
   ],
   "source": [
    "df2.head()"
   ]
  },
  {
   "cell_type": "code",
   "execution_count": 25,
   "metadata": {
    "colab": {
     "base_uri": "https://localhost:8080/",
     "height": 287
    },
    "id": "T-frEHH1Wim5",
    "outputId": "1b3749a0-2244-4641-8aa0-f4d9f0bbd6a9"
   },
   "outputs": [
    {
     "data": {
      "text/plain": [
       "array(['4', '2', '0', '1', '3'], dtype=object)"
      ]
     },
     "execution_count": 25,
     "metadata": {},
     "output_type": "execute_result"
    }
   ],
   "source": [
    "df2['status'].unique()"
   ]
  },
  {
   "cell_type": "code",
   "execution_count": 26,
   "metadata": {},
   "outputs": [],
   "source": [
    "df2.drop(columns='normalized_data', inplace= True)"
   ]
  },
  {
   "cell_type": "code",
   "execution_count": 27,
   "metadata": {},
   "outputs": [],
   "source": [
    "from sklearn.tree import DecisionTreeClassifier"
   ]
  },
  {
   "cell_type": "code",
   "execution_count": 28,
   "metadata": {},
   "outputs": [
    {
     "data": {
      "text/html": [
       "<div>\n",
       "<style scoped>\n",
       "    .dataframe tbody tr th:only-of-type {\n",
       "        vertical-align: middle;\n",
       "    }\n",
       "\n",
       "    .dataframe tbody tr th {\n",
       "        vertical-align: top;\n",
       "    }\n",
       "\n",
       "    .dataframe thead th {\n",
       "        text-align: right;\n",
       "    }\n",
       "</style>\n",
       "<table border=\"1\" class=\"dataframe\">\n",
       "  <thead>\n",
       "    <tr style=\"text-align: right;\">\n",
       "      <th></th>\n",
       "      <th>Unnamed: 0</th>\n",
       "      <th>dose (g)</th>\n",
       "      <th>water temp ( C )</th>\n",
       "      <th>water vol (ml)</th>\n",
       "      <th>number of pours</th>\n",
       "      <th>TDS %</th>\n",
       "      <th>seconds</th>\n",
       "      <th>status</th>\n",
       "    </tr>\n",
       "  </thead>\n",
       "  <tbody>\n",
       "    <tr>\n",
       "      <th>0</th>\n",
       "      <td>0</td>\n",
       "      <td>16</td>\n",
       "      <td>93</td>\n",
       "      <td>250</td>\n",
       "      <td>3</td>\n",
       "      <td>1.56</td>\n",
       "      <td>165.0</td>\n",
       "      <td>4</td>\n",
       "    </tr>\n",
       "    <tr>\n",
       "      <th>1</th>\n",
       "      <td>1</td>\n",
       "      <td>15</td>\n",
       "      <td>93</td>\n",
       "      <td>250</td>\n",
       "      <td>3</td>\n",
       "      <td>1.40</td>\n",
       "      <td>165.0</td>\n",
       "      <td>2</td>\n",
       "    </tr>\n",
       "    <tr>\n",
       "      <th>2</th>\n",
       "      <td>2</td>\n",
       "      <td>14</td>\n",
       "      <td>92</td>\n",
       "      <td>240</td>\n",
       "      <td>3</td>\n",
       "      <td>1.25</td>\n",
       "      <td>130.0</td>\n",
       "      <td>0</td>\n",
       "    </tr>\n",
       "    <tr>\n",
       "      <th>3</th>\n",
       "      <td>3</td>\n",
       "      <td>40</td>\n",
       "      <td>92</td>\n",
       "      <td>330</td>\n",
       "      <td>5</td>\n",
       "      <td>1.30</td>\n",
       "      <td>210.0</td>\n",
       "      <td>1</td>\n",
       "    </tr>\n",
       "    <tr>\n",
       "      <th>4</th>\n",
       "      <td>4</td>\n",
       "      <td>22</td>\n",
       "      <td>100</td>\n",
       "      <td>375</td>\n",
       "      <td>3</td>\n",
       "      <td>1.40</td>\n",
       "      <td>140.0</td>\n",
       "      <td>2</td>\n",
       "    </tr>\n",
       "    <tr>\n",
       "      <th>...</th>\n",
       "      <td>...</td>\n",
       "      <td>...</td>\n",
       "      <td>...</td>\n",
       "      <td>...</td>\n",
       "      <td>...</td>\n",
       "      <td>...</td>\n",
       "      <td>...</td>\n",
       "      <td>...</td>\n",
       "    </tr>\n",
       "    <tr>\n",
       "      <th>128</th>\n",
       "      <td>128</td>\n",
       "      <td>20</td>\n",
       "      <td>92</td>\n",
       "      <td>300</td>\n",
       "      <td>4</td>\n",
       "      <td>1.52</td>\n",
       "      <td>147.0</td>\n",
       "      <td>3</td>\n",
       "    </tr>\n",
       "    <tr>\n",
       "      <th>129</th>\n",
       "      <td>129</td>\n",
       "      <td>16</td>\n",
       "      <td>92</td>\n",
       "      <td>250</td>\n",
       "      <td>4</td>\n",
       "      <td>1.32</td>\n",
       "      <td>145.0</td>\n",
       "      <td>1</td>\n",
       "    </tr>\n",
       "    <tr>\n",
       "      <th>130</th>\n",
       "      <td>130</td>\n",
       "      <td>16</td>\n",
       "      <td>92</td>\n",
       "      <td>250</td>\n",
       "      <td>4</td>\n",
       "      <td>1.41</td>\n",
       "      <td>148.0</td>\n",
       "      <td>2</td>\n",
       "    </tr>\n",
       "    <tr>\n",
       "      <th>131</th>\n",
       "      <td>131</td>\n",
       "      <td>16</td>\n",
       "      <td>90</td>\n",
       "      <td>250</td>\n",
       "      <td>4</td>\n",
       "      <td>1.46</td>\n",
       "      <td>156.0</td>\n",
       "      <td>3</td>\n",
       "    </tr>\n",
       "    <tr>\n",
       "      <th>132</th>\n",
       "      <td>132</td>\n",
       "      <td>18</td>\n",
       "      <td>92</td>\n",
       "      <td>270</td>\n",
       "      <td>4</td>\n",
       "      <td>1.37</td>\n",
       "      <td>150.0</td>\n",
       "      <td>2</td>\n",
       "    </tr>\n",
       "  </tbody>\n",
       "</table>\n",
       "<p>133 rows × 8 columns</p>\n",
       "</div>"
      ],
      "text/plain": [
       "     Unnamed: 0  dose (g)  water temp ( C )  water vol (ml)  number of pours  \\\n",
       "0             0        16                93             250                3   \n",
       "1             1        15                93             250                3   \n",
       "2             2        14                92             240                3   \n",
       "3             3        40                92             330                5   \n",
       "4             4        22               100             375                3   \n",
       "..          ...       ...               ...             ...              ...   \n",
       "128         128        20                92             300                4   \n",
       "129         129        16                92             250                4   \n",
       "130         130        16                92             250                4   \n",
       "131         131        16                90             250                4   \n",
       "132         132        18                92             270                4   \n",
       "\n",
       "     TDS %  seconds status  \n",
       "0     1.56    165.0      4  \n",
       "1     1.40    165.0      2  \n",
       "2     1.25    130.0      0  \n",
       "3     1.30    210.0      1  \n",
       "4     1.40    140.0      2  \n",
       "..     ...      ...    ...  \n",
       "128   1.52    147.0      3  \n",
       "129   1.32    145.0      1  \n",
       "130   1.41    148.0      2  \n",
       "131   1.46    156.0      3  \n",
       "132   1.37    150.0      2  \n",
       "\n",
       "[133 rows x 8 columns]"
      ]
     },
     "execution_count": 28,
     "metadata": {},
     "output_type": "execute_result"
    }
   ],
   "source": [
    "df"
   ]
  },
  {
   "cell_type": "code",
   "execution_count": 29,
   "metadata": {},
   "outputs": [],
   "source": [
    "df2.drop(columns='Unnamed: 0', inplace= True)"
   ]
  },
  {
   "cell_type": "code",
   "execution_count": 30,
   "metadata": {},
   "outputs": [],
   "source": [
    "X= df.drop(columns='TDS %')\n",
    "y = df['status']"
   ]
  },
  {
   "cell_type": "code",
   "execution_count": 31,
   "metadata": {},
   "outputs": [],
   "source": [
    "X_test,X_train,y_test,y_train = train_test_split(X,y,test_size=0.17,random_state=42)"
   ]
  },
  {
   "cell_type": "code",
   "execution_count": 32,
   "metadata": {},
   "outputs": [],
   "source": [
    "model = DecisionTreeClassifier()\n",
    "trained_model = model.fit(X_train,y_train)"
   ]
  },
  {
   "cell_type": "code",
   "execution_count": 33,
   "metadata": {},
   "outputs": [],
   "source": [
    "import pickle\n",
    "\n",
    "# Assuming your trained model is stored in a variable called `model`\n",
    "with open('trained_model', 'wb') as file:\n",
    "    pickle.dump(model, file)\n"
   ]
  },
  {
   "cell_type": "code",
   "execution_count": 34,
   "metadata": {},
   "outputs": [],
   "source": [
    "y_pred= model.predict(X_test)\n",
    "from sklearn.metrics import f1_score\n",
    "f1score = f1_score(y_test,y_pred,average='macro')\n"
   ]
  },
  {
   "cell_type": "code",
   "execution_count": 35,
   "metadata": {},
   "outputs": [
    {
     "name": "stdout",
     "output_type": "stream",
     "text": [
      "1.0\n"
     ]
    }
   ],
   "source": [
    "print(f1score)"
   ]
  },
  {
   "cell_type": "code",
   "execution_count": null,
   "metadata": {},
   "outputs": [],
   "source": []
  }
 ],
 "metadata": {
  "colab": {
   "provenance": []
  },
  "kernelspec": {
   "display_name": "base",
   "language": "python",
   "name": "python3"
  },
  "language_info": {
   "codemirror_mode": {
    "name": "ipython",
    "version": 3
   },
   "file_extension": ".py",
   "mimetype": "text/x-python",
   "name": "python",
   "nbconvert_exporter": "python",
   "pygments_lexer": "ipython3",
   "version": "3.12.4"
  }
 },
 "nbformat": 4,
 "nbformat_minor": 0
}
